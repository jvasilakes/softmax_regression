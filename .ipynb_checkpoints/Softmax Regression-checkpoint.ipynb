{
 "cells": [
  {
   "cell_type": "markdown",
   "metadata": {
    "deletable": true,
    "editable": true
   },
   "source": [
    "## Softmax regression (AKA multiclass regression)"
   ]
  },
  {
   "cell_type": "code",
   "execution_count": 1,
   "metadata": {
    "collapsed": true,
    "deletable": true,
    "editable": true
   },
   "outputs": [],
   "source": [
    "%matplotlib inline\n",
    "\n",
    "from __future__ import division, print_function\n",
    "\n",
    "import numpy as np\n",
    "import scipy.stats as stats\n",
    "from collections import Counter"
   ]
  },
  {
   "cell_type": "markdown",
   "metadata": {
    "deletable": true,
    "editable": true
   },
   "source": [
    "### Gradient Descent\n",
    "This class handles the definition of the cost function, the computation of the gradient of the cost function, training, and evaluation. The cost function used here is cross entropy with L2 regularization, defined as $-\\frac{1}{N}\\sum_{i}^{N}\\sum_{c}^{C} c_{x_i} log(P(c_{x_i} = c | x_i)) + \\frac{\\lambda}{2}\\sum_{c}^{C}\\sum_{f}^{F} w_{cf}^2$ where $N$ is the number of training examples, $C$ is the number of target classes, and $F$ is the number of features. **Derivation of the gradient in progress**"
   ]
  },
  {
   "cell_type": "code",
   "execution_count": 2,
   "metadata": {
    "collapsed": false,
    "deletable": true,
    "editable": true
   },
   "outputs": [],
   "source": [
    "class GradientDescentTrainer(object):\n",
    "    def __init__(self, train_x, train_y, l2=1, eta=0.1):\n",
    "        self.x = train_x\n",
    "        self.y = train_y\n",
    "        self.w = stats.truncnorm.rvs(0, 0.1, size=(self.y.shape[1], self.x.shape[1]))\n",
    "        self.l2 = l2   # L2 regularization parameter\n",
    "        self.eta = eta  # Step size\n",
    "        self._x_by_class = None  # Features set to non-zero for each given class\n",
    "        self.cost_log = np.empty([NUM_EPOCHS])\n",
    "        self.accuracy_log = np.empty([NUM_EPOCHS])\n",
    "\n",
    "    def print_params(self):\n",
    "        print(\"Gradient descent optimization of cross-entropy cost function\")\n",
    "        print(\"  with L2 regularization.\")\n",
    "        print(\"L2: {0}\".format(self.l2))\n",
    "        print(\"eta: {0}\".format(self.eta))\n",
    "\n",
    "    def evaluate(self, test_x, refs):\n",
    "        probs = self.softmax(xs=test_x)\n",
    "        correct = np.argmax(probs, axis=0) == np.argmax(refs, axis=1)\n",
    "        accuracy = 100 * np.sum(correct) / len(refs)\n",
    "        return accuracy\n",
    "\n",
    "    def train(self, num_iter=5):\n",
    "        print(\"Training for {0} iterations\".format(num_iter))\n",
    "        print_every = int(round(num_iter**(0.75), -1))\n",
    "        for i in xrange(num_iter):\n",
    "            probs = self.softmax()\n",
    "            cost = self.compute_cost(probs)\n",
    "            self.cost_log[i] = cost\n",
    "            train_accuracy = self.evaluate(self.x, self.y)\n",
    "            self.accuracy_log[i] = train_accuracy\n",
    "            if i % print_every == 0:\n",
    "                print(\"Cost at epoch {0}: {1}\".format(i, cost))\n",
    "            gradient = self.compute_gradient(probs)\n",
    "            self.update_weights(gradient)\n",
    "        probs = self.softmax()\n",
    "        cost = self.compute_cost(probs)\n",
    "        print(\"Final cost: {0}\".format(cost))\n",
    "\n",
    "    def softmax(self, xs=None):\n",
    "        if xs is not None:\n",
    "            x = xs \n",
    "        else:\n",
    "            x = self.x\n",
    "        scores = np.dot(x, self.w.T) # Numerator\n",
    "        probs = np.exp(scores).T / np.sum(np.exp(scores), axis=1)\n",
    "        return probs\n",
    "\n",
    "    def compute_cost(self, probs):\n",
    "        \"\"\"\n",
    "        Cross-Entropy cost function.\n",
    "        \"\"\"\n",
    "        norm = -1/self.x.shape[0]\n",
    "        reg = (self.l2 / 2) * np.sum(self.w * self.w)\n",
    "        cost = norm * np.sum(self.y * np.log(probs.T)) + reg\n",
    "        return cost\n",
    "\n",
    "    def compute_gradient(self, probs): \n",
    "        gradient = np.zeros([self.y.shape[1], self.x.shape[1]])\n",
    "        if not self._x_by_class:\n",
    "            self._x_by_class = []\n",
    "            for y in xrange(self.y.shape[1]):\n",
    "                indicator = np.argmax(self.y, axis=1) == y\n",
    "                self._x_by_class.append(indicator * self.x.T)\n",
    "        for y in xrange(self.y.shape[1]):\n",
    "            norm = -1/self.x.shape[0]\n",
    "            reg = self.l2 * self.w[y]\n",
    "#            grad_y_old = norm * np.sum(self._x_by_class[y] - (probs[y] * self.x.T), axis=1) + reg\n",
    "            grad_y = norm * np.sum((self.y.T[y] - probs[y]) * self.x.T, axis=1) + reg\n",
    "            gradient[y] = grad_y\n",
    "        return gradient\n",
    "\n",
    "    def update_weights(self, gradient):\n",
    "        self.w = self.w - self.eta * gradient"
   ]
  },
  {
   "cell_type": "markdown",
   "metadata": {
    "deletable": true,
    "editable": true
   },
   "source": [
    "#### Feature extraction and preparation functions\n",
    "Assumes the train and test files are CSV files of the format: label,feature1,feature2,...featureN"
   ]
  },
  {
   "cell_type": "code",
   "execution_count": 38,
   "metadata": {
    "collapsed": true,
    "deletable": true,
    "editable": true
   },
   "outputs": [],
   "source": [
    "def split_test_set(x, y, split=0.1, shuffle=False):\n",
    "    test_size = int(len(x) * 0.1)\n",
    "    if shuffle is True:\n",
    "        perm = np.random.permutation(len(x))\n",
    "    else:\n",
    "        perm = range(len(x))    \n",
    "    train_x = x[perm][test_size:]\n",
    "    train_y = y[perm][test_size:]\n",
    "    test_x = x[perm][:test_size]\n",
    "    test_y = y[perm][:test_size]\n",
    "    return (train_x, train_y, test_x, test_y)\n",
    "\n",
    "def features_from_file(infile, split_train=False):\n",
    "    features = []\n",
    "    targets = []\n",
    "    with open(infile, 'r') as inF:\n",
    "        for line in inF:\n",
    "            line = line.split(',')\n",
    "            targets.append(line[0])\n",
    "            features.append([float(f) for f in line[1:]])\n",
    "    return np.array(features), np.array(targets)\n",
    "\n",
    "\n",
    "def to_onehot(targets, classmap):\n",
    "    y_t = np.zeros([len(targets), len(classmap)])\n",
    "    for i,_ in enumerate(y_t):\n",
    "        index = classmap[targets[i]]\n",
    "        y_t[i][index] = 1\n",
    "    return y_t\n",
    "\n",
    "def from_onehot(predictions, classmap):\n",
    "    inv_classmap = dict([(i,v) for (v,i) in classmap.items()])\n",
    "    words = [inv_classmap[i] for i in predictions]\n",
    "    return words"
   ]
  },
  {
   "cell_type": "markdown",
   "metadata": {
    "deletable": true,
    "editable": true
   },
   "source": [
    "#### Evaluation functions\n",
    "Precision and recall for each class. Precision: $\\frac{\\sum True~positive}{\\sum Predicted~positive}$ Recall: $\\frac{\\sum True~positive}{\\sum True~condition~positive}$. Baseline is taken as the accuracy if the system always chooses the most common class."
   ]
  },
  {
   "cell_type": "code",
   "execution_count": 39,
   "metadata": {
    "collapsed": true,
    "deletable": true,
    "editable": true
   },
   "outputs": [],
   "source": [
    "def compute_precision_recall(confusions):\n",
    "    tps = [confusions[i][i] for i in range(len(confusions))]\n",
    "    total_hyps = np.sum(confusions, axis=1)\n",
    "    total_refs = np.sum(confusions, axis=0)\n",
    "    precisions = tps / total_hyps\n",
    "    recalls = tps / total_refs\n",
    "    return precisions, recalls\n",
    "\n",
    "def print_confusions(classmap, hyps, refs):\n",
    "    num_classes = len(classmap)\n",
    "    words = [k for k,v in sorted(classmap.items(), key=lambda x: x[1])]\n",
    "    confusions = np.zeros([num_classes, num_classes], dtype='int') # hyps x refs\n",
    "    for hyp, ref in zip(hyps, refs):\n",
    "        ref_idx = np.argmax(ref)\n",
    "        confusions[hyp][ref] += 1\n",
    "    template = \"{: <6}\" + \"{: <7}\" * (num_classes+1)\n",
    "    print(template.format(\"\", *words + [\"TOTAL\"]))  # header\n",
    "    for word, conf in zip(words, confusions):\n",
    "        total = np.sum(conf)\n",
    "        conf = np.append(conf, [total])\n",
    "        print(template.format(word, *conf))\n",
    "    total_hyps = np.sum(confusions, axis=0)\n",
    "    total_hyps = np.append(total_hyps, \"\")\n",
    "    print(template.format(\"TOTAL\", *total_hyps))\n",
    "    precisions, recalls = compute_precision_recall(confusions) \n",
    "    slots = \"{:.2f} \" * num_classes\n",
    "    print(\"Precision/class: \" + slots.format(*precisions))\n",
    "    print(\"Recall/class: \" + slots.format(*recalls))\n",
    "\n",
    "def compute_baseline(train_targets, test_refs):\n",
    "    # Find the most common class in the training data\n",
    "    counts = Counter(train_targets)\n",
    "    print(counts)\n",
    "    most_common = counts.most_common(1)[0][0]\n",
    "    # Always predict most common class in the training data.\n",
    "    predictions = [(most_common, ref) for ref in test_refs]\n",
    "    num_correct = len([pred for (pred, ref) in predictions if pred == ref])\n",
    "    accuracy = 100 * num_correct / len(predictions)\n",
    "    print(\"*** Baseline Accuracy ('{0}') ***: {1:.2f} ({2}/{3})\"\n",
    "           .format(most_common, accuracy, num_correct, len(test_refs)))"
   ]
  },
  {
   "cell_type": "markdown",
   "metadata": {
    "deletable": true,
    "editable": true
   },
   "source": [
    "#### Set some global variables"
   ]
  },
  {
   "cell_type": "code",
   "execution_count": 40,
   "metadata": {
    "collapsed": false,
    "deletable": true,
    "editable": true
   },
   "outputs": [],
   "source": [
    "TRAINFILE = \"./data/balance-shuf.data\"\n",
    "L2LAMBDA = 0.1\n",
    "LEARNING_RATE = 1e-1\n",
    "NUM_EPOCHS = 20"
   ]
  },
  {
   "cell_type": "markdown",
   "metadata": {
    "deletable": true,
    "editable": true
   },
   "source": [
    "### Run the system\n",
    "Extract and prepare the features and targets, run gradient descent, evaluate."
   ]
  },
  {
   "cell_type": "code",
   "execution_count": 52,
   "metadata": {
    "collapsed": false,
    "deletable": true,
    "editable": true
   },
   "outputs": [
    {
     "name": "stdout",
     "output_type": "stream",
     "text": [
      "Reading features\n",
      "{'R': 1, 'B': 0, 'L': 2}\n",
      "Gradient descent optimization of cross-entropy cost function\n",
      "  with L2 regularization.\n",
      "L2: 0.1\n",
      "eta: 0.1\n",
      "Counter({'L': 259, 'R': 257, 'B': 47})\n",
      "*** Baseline Accuracy ('L') ***: 46.77 (29/62)\n",
      "Training for 20 iterations\n",
      "Cost at epoch 0: 1.19663024533\n",
      "Cost at epoch 10: 0.64820501496\n",
      "Final cost: 0.578112126348\n",
      "*** Test Accuracy *** 91.94\n",
      "      B      R      L      TOTAL  \n",
      "B     0      0      0      0      \n",
      "R     2      31     3      36     \n",
      "L     0      0      26     26     \n",
      "TOTAL 2      31     29            \n",
      "Precision/class: nan 0.86 1.00 \n",
      "Recall/class: 0.00 1.00 0.90 \n"
     ]
    },
    {
     "name": "stderr",
     "output_type": "stream",
     "text": [
      "/Users/jav/Envs/sci/lib/python2.7/site-packages/ipykernel/__main__.py:5: RuntimeWarning: invalid value encountered in true_divide\n"
     ]
    }
   ],
   "source": [
    "print(\"Reading features\")\n",
    "train_x, targets = features_from_file(TRAINFILE)\n",
    "num_classes = len(sorted(np.unique(targets)))\n",
    "classmap = dict(zip(set(targets), range(num_classes)))\n",
    "print(classmap)\n",
    "train_x, targets, test_x, refs = split_test_set(train_x, targets, split=0.1, shuffle=False)\n",
    "train_y = to_onehot(targets, classmap)\n",
    "#test_x, refs = features_from_file(TESTFILE)\n",
    "test_y = to_onehot(refs, classmap)\n",
    "\n",
    "GD = GradientDescentTrainer(train_x, train_y, l2=L2LAMBDA, eta=LEARNING_RATE)\n",
    "GD.print_params()\n",
    "compute_baseline(targets, refs)\n",
    "GD.train(num_iter=NUM_EPOCHS)\n",
    "\n",
    "# Results\n",
    "predictions = np.argmax(GD.softmax(xs=test_x), axis=0)\n",
    "accuracy = GD.evaluate(test_x, test_y)\n",
    "print(\"*** Test Accuracy *** {0:.2f}\".format(accuracy))\n",
    "print_confusions(classmap, predictions, np.argmax(test_y, axis=1))"
   ]
  },
  {
   "cell_type": "code",
   "execution_count": 53,
   "metadata": {
    "collapsed": false,
    "deletable": true,
    "editable": true
   },
   "outputs": [
    {
     "data": {
      "image/png": "[encoded data removed]",
      "text/plain": [
       "<matplotlib.figure.Figure at 0x10a181110>"
      ]
     },
     "metadata": {},
     "output_type": "display_data"
    }
   ],
   "source": [
    "import matplotlib.pyplot as plt\n",
    "\n",
    "plt.plot(GD.cost_log)\n",
    "plt.title(\"Train Cost\")\n",
    "plt.show()"
   ]
  },
  {
   "cell_type": "code",
   "execution_count": 54,
   "metadata": {
    "collapsed": false,
    "deletable": true,
    "editable": true
   },
   "outputs": [
    {
     "data": {
      "image/png": "[encoded data removed]",
      "text/plain": [
       "<matplotlib.figure.Figure at 0x109f4c750>"
      ]
     },
     "metadata": {},
     "output_type": "display_data"
    }
   ],
   "source": [
    "plt.plot(GD.accuracy_log)\n",
    "plt.title(\"Train Accuracy\")\n",
    "plt.show()"
   ]
  },
  {
   "cell_type": "markdown",
   "metadata": {},
   "source": [
    "## CART\n",
    "We see from the confusion matrix that the classifier fails to correctly classify any balanced \"B\" data points. This is likely due to the distribution of classes in the test data. Since decision trees aim to split the test data as accurately as possible rather than minimize a cost function or maximize likelihood, they are more likely to take the balanced cases into account, rather than ignoring them. "
   ]
  },
  {
   "cell_type": "code",
   "execution_count": 55,
   "metadata": {
    "collapsed": false,
    "deletable": true,
    "editable": true
   },
   "outputs": [],
   "source": [
    "from sklearn import tree\n",
    "from sklearn.metrics import confusion_matrix\n",
    "clf = tree.DecisionTreeClassifier(min_samples_split=5, random_state=99)\n",
    "clf = clf.fit(train_x, targets)"
   ]
  },
  {
   "cell_type": "code",
   "execution_count": 56,
   "metadata": {
    "collapsed": false
   },
   "outputs": [
    {
     "name": "stdout",
     "output_type": "stream",
     "text": [
      "*** Test Accuracy *** 0.81\n",
      "      B      R      L      TOTAL  \n",
      "B     0      3      7      10     \n",
      "R     1      28     0      29     \n",
      "L     1      0      22     23     \n",
      "TOTAL 2      31     29            \n",
      "Precision/class: 0.00 0.97 0.96 \n",
      "Recall/class: 0.00 0.90 0.76 \n"
     ]
    }
   ],
   "source": [
    "dt_hyps = clf.predict(test_x)\n",
    "results = dt_hyps == refs\n",
    "accuracy = np.sum(results) / len(refs)\n",
    "hyps_idx = [classmap[hyp] for hyp in dt_hyps]\n",
    "refs_idx = [classmap[ref] for ref in refs]\n",
    "print(\"*** Test Accuracy *** {0:.2f}\".format(accuracy))\n",
    "print_confusions(classmap, hyps_idx, refs_idx)"
   ]
  },
  {
   "cell_type": "markdown",
   "metadata": {},
   "source": [
    "Still not classifying balanced cases very well. Lets look at the tree."
   ]
  },
  {
   "cell_type": "code",
   "execution_count": 57,
   "metadata": {
    "collapsed": false
   },
   "outputs": [],
   "source": [
    "with open(\"./graphics/dt.dot\", 'w') as f:\n",
    "        tree.export_graphviz(clf, out_file=f)"
   ]
  },
  {
   "cell_type": "markdown",
   "metadata": {},
   "source": [
    "Then run *dot -Tpng graphics/dt.dot -o graphics/dt.png* in the terminal. From this we see something we should have expected: the questions asked are 'greater-than less-than' questions regarding each of the individual features. The tree does not take into account how the features correlate or do not correlate. For example, for a balanced scale, the sum of the first two features equals the sum of the last two features, for an unbalanced scale, the sum of the first two is greater or less than the sum of the second two. Using this intuition, let's compress our features by summing the first two and second two features. The features are: left-weight, left-distance, right-weight, right-distance."
   ]
  },
  {
   "cell_type": "code",
   "execution_count": 58,
   "metadata": {
    "collapsed": false
   },
   "outputs": [],
   "source": [
    "def transform_features(features):\n",
    "    \"\"\"\n",
    "    Compresses balance scale features by summing first two and last two features.\n",
    "    E.g. \"1,2,1,2\" => \"3,3\"\n",
    "    \"\"\"\n",
    "    transformed_features = np.empty([len(features), 2])\n",
    "    for i,x in enumerate(features):\n",
    "        left = np.sum(x[:2])\n",
    "        right = np.sum(x[2:])\n",
    "        transformed_features[i] = [left, right]\n",
    "    return transformed_features\n",
    "\n",
    "train_x_trans = transform_features(train_x)\n",
    "test_x_trans = transform_features(test_x)"
   ]
  },
  {
   "cell_type": "markdown",
   "metadata": {},
   "source": [
    "Now lets try our learning algorithms again!"
   ]
  },
  {
   "cell_type": "code",
   "execution_count": 59,
   "metadata": {
    "collapsed": false
   },
   "outputs": [
    {
     "name": "stdout",
     "output_type": "stream",
     "text": [
      "Gradient descent optimization of cross-entropy cost function\n",
      "  with L2 regularization.\n",
      "L2: 0.1\n",
      "eta: 0.1\n",
      "Counter({'L': 259, 'R': 257, 'B': 47})\n",
      "*** Baseline Accuracy ('L') ***: 46.77 (29/62)\n",
      "Training for 20 iterations\n",
      "Cost at epoch 0: 1.17761183104\n",
      "Cost at epoch 10: 0.76423090162\n",
      "Final cost: 0.485637107922\n",
      "*** Test Accuracy *** 93.55\n",
      "      B      R      L      TOTAL  \n",
      "B     0      0      0      0      \n",
      "R     0      29     0      29     \n",
      "L     2      2      29     33     \n",
      "TOTAL 2      31     29            \n",
      "Precision/class: nan 1.00 0.88 \n",
      "Recall/class: 0.00 0.94 1.00 \n"
     ]
    },
    {
     "name": "stderr",
     "output_type": "stream",
     "text": [
      "/Users/jav/Envs/sci/lib/python2.7/site-packages/ipykernel/__main__.py:5: RuntimeWarning: invalid value encountered in true_divide\n"
     ]
    }
   ],
   "source": [
    "GD = GradientDescentTrainer(train_x_trans, train_y, l2=L2LAMBDA, eta=LEARNING_RATE)\n",
    "GD.print_params()\n",
    "compute_baseline(targets, refs)\n",
    "GD.train(num_iter=NUM_EPOCHS)\n",
    "\n",
    "# Results\n",
    "predictions = np.argmax(GD.softmax(xs=test_x_trans), axis=0)\n",
    "accuracy = GD.evaluate(test_x_trans, test_y)\n",
    "print(\"*** Test Accuracy *** {0:.2f}\".format(accuracy))\n",
    "print_confusions(classmap, predictions, np.argmax(test_y, axis=1))"
   ]
  },
  {
   "cell_type": "markdown",
   "metadata": {},
   "source": [
    "Softmax regression still fails to classify the balanced instances. This is likely due to the problem noted above: There simply aren't enough balanced instances in the training data."
   ]
  },
  {
   "cell_type": "code",
   "execution_count": 60,
   "metadata": {
    "collapsed": false
   },
   "outputs": [
    {
     "name": "stdout",
     "output_type": "stream",
     "text": [
      "*** Test Accuracy *** 0.89\n",
      "      B      R      L      TOTAL  \n",
      "B     2      2      5      9      \n",
      "R     0      29     0      29     \n",
      "L     0      0      24     24     \n",
      "TOTAL 2      31     29            \n",
      "Precision/class: 0.22 1.00 1.00 \n",
      "Recall/class: 1.00 0.94 0.83 \n"
     ]
    }
   ],
   "source": [
    "clf = tree.DecisionTreeClassifier(min_samples_split=3, random_state=99)\n",
    "clf = clf.fit(train_x_trans, targets)\n",
    "dt_hyps = clf.predict(test_x_trans)\n",
    "results = dt_hyps == refs\n",
    "accuracy = np.sum(results) / len(refs)\n",
    "hyps_idx = [classmap[hyp] for hyp in dt_hyps]\n",
    "refs_idx = [classmap[ref] for ref in refs]\n",
    "print(\"*** Test Accuracy *** {0:.2f}\".format(accuracy))\n",
    "print_confusions(classmap, hyps_idx, refs_idx)"
   ]
  },
  {
   "cell_type": "markdown",
   "metadata": {},
   "source": [
    "### Well look at that!\n",
    "Let's see what is difference about this tree that makes it so much better at classifying the balanced instances."
   ]
  },
  {
   "cell_type": "code",
   "execution_count": 61,
   "metadata": {
    "collapsed": true
   },
   "outputs": [],
   "source": [
    "with open(\"graphics/dt_trans.dot\", 'w') as f:\n",
    "        tree.export_graphviz(clf, out_file=f)"
   ]
  },
  {
   "cell_type": "markdown",
   "metadata": {},
   "source": [
    "From this we see that it can now clearly ask a series of questions which figures out if the left and right side are equal. Let's visualize the separability of the transformed features, since they're 2D and easily plottable."
   ]
  },
  {
   "cell_type": "code",
   "execution_count": 62,
   "metadata": {
    "collapsed": false
   },
   "outputs": [
    {
     "data": {
      "image/png": "[encoded data removed]",
      "text/plain": [
       "<matplotlib.figure.Figure at 0x10a3bcdd0>"
      ]
     },
     "metadata": {},
     "output_type": "display_data"
    }
   ],
   "source": [
    "import matplotlib\n",
    "\n",
    "balanced_idxs = [i for i,lab in enumerate(targets) if lab == 'B']\n",
    "lab_idx = [classmap[lab]**2 for lab in targets]\n",
    "colors = ['red', 'blue', 'lightgreen']\n",
    "plt.scatter(train_x_trans[:,0], train_x_trans[:,1], c=lab_idx, cmap=matplotlib.colors.ListedColormap(colors))\n",
    "plt.scatter(train_x_trans[balanced_idxs][:,0], train_x_trans[balanced_idxs][:,1], marker='x')\n",
    "plt.title(\"Transformed train features\")\n",
    "plt.show()"
   ]
  },
  {
   "cell_type": "markdown",
   "metadata": {},
   "source": [
    "This shows that the classes are easily separable with the transformed features. Red: right-weighted; Green: left-weighted; Blue: balanced."
   ]
  },
  {
   "cell_type": "code",
   "execution_count": null,
   "metadata": {
    "collapsed": true
   },
   "outputs": [],
   "source": []
  }
 ],
 "metadata": {
  "kernelspec": {
   "display_name": "Python 2",
   "language": "python",
   "name": "python2"
  },
  "language_info": {
   "codemirror_mode": {
    "name": "ipython",
    "version": 2
   },
   "file_extension": ".py",
   "mimetype": "text/x-python",
   "name": "python",
   "nbconvert_exporter": "python",
   "pygments_lexer": "ipython2",
   "version": "2.7.10"
  }
 },
 "nbformat": 4,
 "nbformat_minor": 2
}
